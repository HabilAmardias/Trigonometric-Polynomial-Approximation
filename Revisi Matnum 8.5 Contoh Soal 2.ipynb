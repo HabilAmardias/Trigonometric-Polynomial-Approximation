{
 "cells": [
  {
   "cell_type": "code",
   "execution_count": 1,
   "id": "e6d75ca3",
   "metadata": {},
   "outputs": [],
   "source": [
    "import math\n",
    "import matplotlib.pyplot as plt"
   ]
  },
  {
   "cell_type": "code",
   "execution_count": 2,
   "id": "bf823dcb",
   "metadata": {},
   "outputs": [],
   "source": [
    "def f(x):\n",
    "    return 2*x**2-9"
   ]
  },
  {
   "cell_type": "code",
   "execution_count": 3,
   "id": "3b0fe42e",
   "metadata": {},
   "outputs": [
    {
     "name": "stdout",
     "output_type": "stream",
     "text": [
      "[-3.141592653589793, -2.0943951023931957, -1.0471975511965979, 0.0, 1.0471975511965974, 2.0943951023931957]\n"
     ]
    }
   ],
   "source": [
    "m=3\n",
    "pi=math.pi\n",
    "x=[]\n",
    "for j in range(0,2*m):\n",
    "    element=-pi+(j/m)*pi\n",
    "    x.append(element)\n",
    "print(x)"
   ]
  },
  {
   "cell_type": "code",
   "execution_count": 4,
   "id": "db4f087d",
   "metadata": {},
   "outputs": [
    {
     "name": "stdout",
     "output_type": "stream",
     "text": [
      "[10.739208802178716, -0.22701831014279072, -6.806754577535697, -9.0, -6.806754577535699, -0.22701831014279072]\n"
     ]
    }
   ],
   "source": [
    "y=[f(i) for i in x]\n",
    "print(y)"
   ]
  },
  {
   "cell_type": "code",
   "execution_count": 5,
   "id": "33b0b801",
   "metadata": {},
   "outputs": [],
   "source": [
    "n=2\n",
    "a=[]\n",
    "b=[]"
   ]
  },
  {
   "cell_type": "code",
   "execution_count": 6,
   "id": "17f553b0",
   "metadata": {},
   "outputs": [
    {
     "name": "stdout",
     "output_type": "stream",
     "text": [
      "[-4.109445657726087]\n"
     ]
    }
   ],
   "source": [
    "def a0(Y):\n",
    "    number=0\n",
    "    for i in range(0,2*m):\n",
    "        number=number+((1/m)*Y[i])\n",
    "    return number\n",
    "a.append(a0(y))\n",
    "print(a)"
   ]
  },
  {
   "cell_type": "code",
   "execution_count": 7,
   "id": "ec95dbe4",
   "metadata": {},
   "outputs": [],
   "source": [
    "def sumasi_ak(k,X,Y):\n",
    "    state=0\n",
    "    for i in range(0,2*m):\n",
    "        state=state+((1/m)*Y[i]*math.cos(k*X[i]))\n",
    "    return state"
   ]
  },
  {
   "cell_type": "code",
   "execution_count": 8,
   "id": "a69a33e4",
   "metadata": {},
   "outputs": [
    {
     "name": "stdout",
     "output_type": "stream",
     "text": [
      "[-4.109445657726087, -8.772981689857207, 2.9243272299524006]\n"
     ]
    }
   ],
   "source": [
    "for k in range(1,n+1):\n",
    "    a.append(sumasi_ak(k,x,y))\n",
    "print(a)"
   ]
  },
  {
   "cell_type": "code",
   "execution_count": 9,
   "id": "f90679e8",
   "metadata": {},
   "outputs": [],
   "source": [
    "def sumasi_bk(k,X,Y):\n",
    "    state=0\n",
    "    for i in range(0,2*m):\n",
    "        state=state+((1/m)*Y[i]*math.sin(k*X[i]))\n",
    "    return state"
   ]
  },
  {
   "cell_type": "code",
   "execution_count": 10,
   "id": "f338f32e",
   "metadata": {},
   "outputs": [
    {
     "name": "stdout",
     "output_type": "stream",
     "text": [
      "[0.0, -3.7470027081099033e-16]\n"
     ]
    }
   ],
   "source": [
    "for k in range(0,n):\n",
    "    b.append(sumasi_bk(k,x,y))\n",
    "print(b)"
   ]
  },
  {
   "cell_type": "code",
   "execution_count": 11,
   "id": "1caf5207",
   "metadata": {},
   "outputs": [],
   "source": [
    "def g(X,A,B):\n",
    "    Sn=(A[0]/2)+A[n]*math.cos(n*X)\n",
    "    for k in range(1,n):\n",
    "        Sn=Sn+A[k]*math.cos(k*X)+B[k]*math.sin(k*X)\n",
    "    return Sn"
   ]
  },
  {
   "cell_type": "code",
   "execution_count": 12,
   "id": "57e1c173",
   "metadata": {},
   "outputs": [
    {
     "name": "stdout",
     "output_type": "stream",
     "text": [
      "[9.642586090946565, 0.8696044010893632, -7.903377288767848, -7.90337728876785, -7.903377288767849, 0.8696044010893625]\n"
     ]
    }
   ],
   "source": [
    "S=[g(i,a,b) for i in x]\n",
    "print(S)"
   ]
  },
  {
   "cell_type": "code",
   "execution_count": 13,
   "id": "5e69b1ac",
   "metadata": {},
   "outputs": [],
   "source": [
    "def least_square_error(X,Y):\n",
    "    E=0\n",
    "    for j in range(0,2*m):\n",
    "        E=E+(X[j]-Y[j])**2\n",
    "    return E"
   ]
  },
  {
   "cell_type": "code",
   "execution_count": 14,
   "id": "bdfa51d4",
   "metadata": {},
   "outputs": [
    {
     "name": "stdout",
     "output_type": "stream",
     "text": [
      "7.215488224740925\n"
     ]
    }
   ],
   "source": [
    "print(least_square_error(y,S))"
   ]
  }
 ],
 "metadata": {
  "kernelspec": {
   "display_name": "Python 3 (ipykernel)",
   "language": "python",
   "name": "python3"
  },
  "language_info": {
   "codemirror_mode": {
    "name": "ipython",
    "version": 3
   },
   "file_extension": ".py",
   "mimetype": "text/x-python",
   "name": "python",
   "nbconvert_exporter": "python",
   "pygments_lexer": "ipython3",
   "version": "3.9.13"
  }
 },
 "nbformat": 4,
 "nbformat_minor": 5
}
